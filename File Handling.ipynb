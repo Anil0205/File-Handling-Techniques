{
 "cells": [
  {
   "cell_type": "raw",
   "id": "067eaf79",
   "metadata": {},
   "source": [
    "File Handling means creating the text files or accessing the text from the files \n",
    "\n",
    "1 . 'w' -> write \n",
    "2 . 'r' -> read\n",
    "3 . 'a' -> append\n",
    "4 . readline() -> accesing one part of the data \n",
    "5 . readlines() -> accessing complete part of the data \n",
    "6 . 'with'  -> predefined function "
   ]
  },
  {
   "cell_type": "markdown",
   "id": "ba44f2f5",
   "metadata": {},
   "source": [
    "##  w write"
   ]
  },
  {
   "cell_type": "code",
   "execution_count": 12,
   "id": "28dce4c9",
   "metadata": {},
   "outputs": [],
   "source": [
    "a = open('C:/Users/ANIL/Desktop/Anil.txt','w')\n",
    "a.write('Iam Anil kumar and  iam from Hanamkonda ')\n",
    "a.close()"
   ]
  },
  {
   "cell_type": "markdown",
   "id": "361a48e6",
   "metadata": {},
   "source": [
    "## r -read"
   ]
  },
  {
   "cell_type": "code",
   "execution_count": 13,
   "id": "e4014696",
   "metadata": {},
   "outputs": [
    {
     "name": "stdout",
     "output_type": "stream",
     "text": [
      "Iam Anil kumar and  iam from Hanamkonda \n"
     ]
    }
   ],
   "source": [
    "a =open('C:/Users/ANIL/Desktop/Anil.txt','r')\n",
    "print(a.read())\n",
    "a.close()"
   ]
  },
  {
   "cell_type": "markdown",
   "id": "e6b74e45",
   "metadata": {},
   "source": [
    "## a- append"
   ]
  },
  {
   "cell_type": "code",
   "execution_count": 14,
   "id": "7c858f23",
   "metadata": {},
   "outputs": [],
   "source": [
    "a =open('C:/Users/ANIL/Desktop/Anil.txt','a')\n",
    "a.write('Data science Machine Learning Aritifcial Intelligence')\n",
    "a.close()"
   ]
  },
  {
   "cell_type": "markdown",
   "id": "ea92d563",
   "metadata": {},
   "source": [
    "## read line"
   ]
  },
  {
   "cell_type": "code",
   "execution_count": 9,
   "id": "326fcac6",
   "metadata": {},
   "outputs": [],
   "source": [
    "a =open('C:/Users/ANIL/Desktop/readline.txt','w')\n",
    "a.write(\"\"\"Python tutorial provides basic and advanced concepts of Python. Our Python tutorial is designed for beginners and professionals.\n",
    "\n",
    "Python is a simple, general purpose, high level, and object-oriented programming language.\n",
    "\n",
    "Python is an interpreted scripting language also. Guido Van Rossum is known as the founder of Python programming.\"\"\")\n",
    "a.close()"
   ]
  },
  {
   "cell_type": "code",
   "execution_count": 10,
   "id": "6869c85f",
   "metadata": {},
   "outputs": [
    {
     "name": "stdout",
     "output_type": "stream",
     "text": [
      "Python tutorial provides basic and advanced concepts of Python. Our Python tutorial is designed for beginners and professionals.\n",
      "\n",
      "Python is a simple, general purpose, high level, and object-oriented programming language.\n",
      "\n",
      "Python is an interpreted scripting language also. Guido Van Rossum is known as the founder of Python programming.\n"
     ]
    }
   ],
   "source": [
    "a = open('C:/Users/ANIL/Desktop/readline.txt','r')\n",
    "print(a.read())\n",
    "a.close()"
   ]
  },
  {
   "cell_type": "code",
   "execution_count": 11,
   "id": "3e4062b7",
   "metadata": {},
   "outputs": [
    {
     "name": "stdout",
     "output_type": "stream",
     "text": [
      "Python tutorial provides basic and advanced concepts of Python. Our Python tutorial is designed for beginners and professionals.\n",
      "\n"
     ]
    }
   ],
   "source": [
    "a = open('C:/Users/ANIL/Desktop/readline.txt','r')\n",
    "print(a.readline())\n",
    "a.close()"
   ]
  },
  {
   "cell_type": "markdown",
   "id": "7cc9baea",
   "metadata": {},
   "source": [
    "## readlines"
   ]
  },
  {
   "cell_type": "code",
   "execution_count": 18,
   "id": "28df8c11",
   "metadata": {},
   "outputs": [],
   "source": [
    "a = open('C:/Users/ANIL/Desktop/readlines,txt','w')\n",
    "a.write(\"\"\"Python tutorial provides basic and advanced concepts of Python. Our Python tutorial is designed for beginners and professionals.\n",
    "\n",
    "Python is a simple, general purpose, high level, and object-oriented programming language.\n",
    "\n",
    "Python is an interpreted scripting language also. Guido Van Rossum is known as the founder of Python programming.\"\"\")\n",
    "\n",
    "a.close()"
   ]
  },
  {
   "cell_type": "markdown",
   "id": "c9284c01",
   "metadata": {},
   "source": [
    "## With"
   ]
  },
  {
   "cell_type": "code",
   "execution_count": 19,
   "id": "f633030a",
   "metadata": {},
   "outputs": [],
   "source": [
    "with open('C:/Users/ANIL/Desktop/With.txt','w')as f:\n",
    "    f.write('With function File Handling')\n",
    "    f.close()\n"
   ]
  },
  {
   "cell_type": "code",
   "execution_count": 21,
   "id": "e758cf07",
   "metadata": {},
   "outputs": [
    {
     "name": "stdout",
     "output_type": "stream",
     "text": [
      "With function File Handling\n"
     ]
    }
   ],
   "source": [
    "with open('C:/Users/ANIL/Desktop/With.txt','r')as f:\n",
    "     print(f.read())\n",
    "    f.close()"
   ]
  },
  {
   "cell_type": "code",
   "execution_count": 29,
   "id": "b16d0972",
   "metadata": {},
   "outputs": [],
   "source": [
    "with open('C:/Users/ANIL/Desktop/readline concept.txt','w')as f:\n",
    "    f.write(\"\"\"Python tutorial provides basic and advanced concepts of Python. Our Python tutorial is designed for beginners and professionals.\n",
    "\n",
    "Python is a simple, general purpose, high level, and object-oriented programming language\"\"\")\n",
    "    f.close()"
   ]
  },
  {
   "cell_type": "code",
   "execution_count": 25,
   "id": "19e24f8f",
   "metadata": {},
   "outputs": [
    {
     "name": "stdout",
     "output_type": "stream",
     "text": [
      "Python tutorial provides basic and advanced concepts of Python. Our Python tutorial is designed for beginners and professionals.\n",
      "\n",
      "Python is a simple, general purpose, high level, and object-oriented programming language\n"
     ]
    }
   ],
   "source": [
    "with open('C:/Users/ANIL/Desktop/readline concept.txt','r')as f:\n",
    "    print(f.read())\n",
    "    f.close()"
   ]
  },
  {
   "cell_type": "code",
   "execution_count": 27,
   "id": "7af3c3a8",
   "metadata": {},
   "outputs": [
    {
     "name": "stdout",
     "output_type": "stream",
     "text": [
      "Python tutorial provides basic and advanced concepts of Python. Our Python tutorial is designed for beginners and professionals.\n",
      "\n"
     ]
    }
   ],
   "source": [
    "with open('C:/Users/ANIL/Desktop/readline concept.txt','r')as f:\n",
    "    print(f.readline())\n",
    "    f.close()"
   ]
  },
  {
   "cell_type": "code",
   "execution_count": 28,
   "id": "f7b87b76",
   "metadata": {},
   "outputs": [
    {
     "name": "stdout",
     "output_type": "stream",
     "text": [
      "['Python tutorial provides basic and advanced concepts of Python. Our Python tutorial is designed for beginners and professionals.\\n', '\\n', 'Python is a simple, general purpose, high level, and object-oriented programming language']\n"
     ]
    }
   ],
   "source": [
    "with open('C:/Users/ANIL/Desktop/readline concept.txt','r')as f:\n",
    "    print(f.readlines())\n",
    "    f.close()"
   ]
  },
  {
   "cell_type": "code",
   "execution_count": 30,
   "id": "ab6cf252",
   "metadata": {},
   "outputs": [],
   "source": [
    "import os"
   ]
  },
  {
   "cell_type": "code",
   "execution_count": 31,
   "id": "dc857b66",
   "metadata": {},
   "outputs": [],
   "source": [
    "os.rename('C:/Users/ANIL/Desktop/Anil.txt','C:/Users/ANIL/Desktop/Anilkumar.txt')"
   ]
  },
  {
   "cell_type": "code",
   "execution_count": null,
   "id": "9de48993",
   "metadata": {},
   "outputs": [],
   "source": []
  }
 ],
 "metadata": {
  "kernelspec": {
   "display_name": "Python 3",
   "language": "python",
   "name": "python3"
  },
  "language_info": {
   "codemirror_mode": {
    "name": "ipython",
    "version": 3
   },
   "file_extension": ".py",
   "mimetype": "text/x-python",
   "name": "python",
   "nbconvert_exporter": "python",
   "pygments_lexer": "ipython3",
   "version": "3.8.8"
  }
 },
 "nbformat": 4,
 "nbformat_minor": 5
}
